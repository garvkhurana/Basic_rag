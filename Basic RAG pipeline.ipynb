{
 "cells": [
  {
   "cell_type": "code",
   "execution_count": 1,
   "id": "cac2f9bf-6def-478d-b5a3-d237e214bba5",
   "metadata": {},
   "outputs": [],
   "source": [
    "from langchain_community.llms import Ollama\n",
    "from langchain.document_loaders import PyPDFLoader\n",
    "from langchain.text_splitter import RecursiveCharacterTextSplitter\n",
    "from langchain.embeddings import OllamaEmbeddings\n",
    "from langchain.vectorstores import FAISS\n",
    "from langchain.chains import RetrievalQA\n",
    "from langchain.prompts import ChatPromptTemplate\n",
    "from langchain.output_parsers import StructuredOutputParser"
   ]
  },
  {
   "cell_type": "code",
   "execution_count": 2,
   "id": "e50e70ca-7fed-4221-b874-e18a6b1bd40c",
   "metadata": {},
   "outputs": [],
   "source": [
    "llm=Ollama(model=\"llama3\")\n",
    "loader=PyPDFLoader(file_path=r\"C:\\Users\\Garv Khurana\\OneDrive\\Desktop\\2023_CURRENT_Medical_Diagnosis_and_Treat - Copy_removed.pdf\")\n",
    "splitter=RecursiveCharacterTextSplitter(chunk_size=1000,chunk_overlap=50)"
   ]
  },
  {
   "cell_type": "code",
   "execution_count": 3,
   "id": "a37deffb-db34-4218-ba1d-0d46831319de",
   "metadata": {},
   "outputs": [
    {
     "data": {
      "text/plain": [
       "[Document(metadata={'source': 'C:\\\\Users\\\\Garv Khurana\\\\OneDrive\\\\Desktop\\\\2023_CURRENT_Medical_Diagnosis_and_Treat - Copy_removed.pdf', 'page': 0}, page_content='Copyright © 2023 by McGraw Hill. All rights reserved. Except as permitted under the United States Copyright Act of 1976,\\nno part of this publication may be reproduced or distributed in any form or by any means, or stored in a database or retrieval\\nsystem, without the prior written permission of the publisher.\\nISBN: 978-1-26-468774-9\\nMHID: 1-26-468774-5\\nThe material in this eBook also appears in the print version of this title: ISBN: 978-1-26-468734-3,\\nMHID: 1-26-468734-6.\\neBook conversion by codeMantra\\nVersion 1.0\\nAll trademarks are trademarks of their respective owners. Rather than put a trademark symbol after every occurrence of a\\ntrademarked name, we use names in an editorial fashion only, and to the bene\\ue018t of the trademark owner, with no intention of\\ninfringement of the trademark. Where such designations appear in this book, they have been printed with initial caps.\\nMcGraw Hill eBooks are available at special quantity discounts to use as premiums and sales promotions, or for use in corpo-\\nrate training programs. To contact a representative, please visit the Contact Us pages at www.mhprofessional.com.\\nNotice\\nMedicine is an ever-changing science. As new research and clinical experience broaden our knowledge, changes in treatment\\nand drug therapy are required. The authors and the publisher of this work have checked with sources believed to be reliable in\\ntheir efforts to provide information that is complete and generally in accord with the standards accepted at the time of public a-\\ntion. However, in view of the possibility of human error or changes in medical sciences, neither the authors nor the publisher\\nnor any other party who has been involved in the preparation or publication of this work warrants that the information con-\\ntained herein is in every respect accurate or complete, and they disclaim all responsibility for any errors or omissions or for\\nthe results obtained from use of the information contained in this work. Readers are encouraged to con\\ue018rm the information\\ncontained herein with other sources. For example and in particular, readers are advised to check the product information sheet\\nincluded in the package of each medication they plan to administer to be certain that the information contained in this work is\\naccurate and that changes have not been made in the recommended dose or in the contraindications for administration. This\\nrecommendation is of particular importance in connection with new or infrequently used medications.\\nTERMS OF USE\\nThis is a copyrighted work and McGraw-Hill Education and its licensors reserve all rights in and to the work. Use of this work\\nis subject to these terms. Except as permitted under the Copyright Act of 1976 and the right to store and retrieve one copy\\nof the work, you may not decompile, disassemble, reverse engineer, reproduce, modify, create derivative works based upon,\\ntransmit, distribute, disseminate, sell, publish or sublicense the work or any part of it without McGraw-Hill Education’s prior\\nconsent. You may use the work for your own noncommercial and personal use; any other use of the work is strictly prohibited.\\nYour right to use the work may be terminated if you fail to comply with these terms.\\nTHE WORK IS PROVIDED “AS IS.” McGRAW-HILL EDUCATION AND ITS LICENSORS MAKE NO GUARAN-\\nTEES OR WARRANTIES AS TO THE ACCURACY , ADEQUACY OR COMPLETENESS OF OR RESULTS TO BE\\nOBTAINED FROM USING THE WORK, INCLUDING ANY INFORMATION THAT CAN BE ACCESSED THROUGH\\nTHE WORK VIA HYPERLINK OR OTHERWISE, AND EXPRESSLY DISCLAIM ANY WARRANTY , EXPRESS OR\\nIMPLIED, INCLUDING BUT NOT LIMITED TO IMPLIED WARRANTIES OF MERCHANTABILITY OR FITNESS\\nFOR A PARTICULAR PURPOSE. McGraw-Hill Education and its licensors do not warrant or guarantee that the functions\\ncontained in the work will meet your requirements or that its operation will be uninterrupted or error free. Neither McGraw-\\nHill Education nor its licensors shall be liable to you or anyone else for any inaccuracy, error or omission, regardless of cau se,\\nin the work or for any damages resulting therefrom. McGraw-Hill Education has no responsibility for the content of any\\ninformation accessed through the work. Under no circumstances shall McGraw-Hill Education and/or its licensors be liable\\nfor any indirect, incidental, special, punitive, consequential or similar damages that result from the use of or inability to u se\\nthe work, even if any of them has been advised of the possibility of such damages. This limitation of liability shall apply to\\nany claim or cause whatsoever whether such claim or cause arises in contract, tort or otherwise.'),\n",
       " Document(metadata={'source': 'C:\\\\Users\\\\Garv Khurana\\\\OneDrive\\\\Desktop\\\\2023_CURRENT_Medical_Diagnosis_and_Treat - Copy_removed.pdf', 'page': 1}, page_content='ContentsA\\nuthors v\\nPreface xiii\\nDedication xviiY\\near in Review: Key Clinical Updates in\\nCMDT 2023\\n1. Disease Prevention & Health Promotion 1Michael \\nPignone, MD, MPH, & René Salazar, MD\\n2. Common Symptoms 15Paul \\nL. Nadler, MD, & Ralph Gonzales, MD, MSPH\\n3. Preoperative Evaluation &\\nPerioperative Management 42Hugo \\nQ. Cheng, MD\\n4. Geriatric Disorders 52Leah \\nJ. Witt, MD, Rossana Lau-Ng, MD, &\\nG. Michael Harper, MD\\n5. Palliative Care & Pain Management 69Michael \\nW. Rabow, MD, Steven Z. Pantilat, MD,\\nAnn Cai Shah, MD, Lawrence Poree, MD, MPH, PhD,\\n& Raj Mitra, MD\\n6. Dermatologic Disorders 101Kanade \\nShinkai, MD, PhD, & Lindy P. Fox, MD\\n7. Disorders of the Eyes & Lids 168Jacque \\nL. Duncan, MD, Neeti B. Parikh, MD, &\\nGerami D. Seitzman, MD\\n8. Otolaryngology Disorders 204Elliott \\nD. Kozin, MD, & Lawrence R. Lustig, MD\\n9. Pulmonary Disorders 244Meghan \\nE. Fitzpatrick, MD, Niall T. Prendergast,\\nMD, & Belinda Rivera-Lebron, MD, MS, FCCP10. \\nHeart Disease 323T\\nodd Kiefer, MD, Christopher B. Granger, MD, &\\nKevin P. Jackson, MD11. \\nSystemic Hypertension 442Michael \\nSutters, MD, MRCP (UK)12. \\nBlood Vessel & Lymphatic Disorders 473W\\narren J. Gasper, MD, James C. Iannuzzi, MD, MPH,\\n& Meshell D. Johnson, MD13. Blood Disorders 500Lloyd \\nE. Damon, MD, &\\nCharalambos Babis Andreadis, MD, MSCE14. \\nDisorders of Hemostasis, Thrombosis,\\n& Antithrombotic Therapy 546Andrew \\nD. Leavitt, MD, &\\nErika Leemann Price, MD, MPH15. \\nGastrointestinal Disorders 579Kenneth \\nR. McQuaid, MD16. \\nLiver, Biliary Tract, & Pancreas\\nDisorders 674Lawrence \\nS. Friedman, MD17. \\nBreast Disorders 737Armando \\nE. Giuliano, MD, FACS, FRCSEd, &\\nSara A. Hurvitz, MD, FACP18. \\nGynecologic Disorders 763Jill \\nBrown, MD, MPH, MHS, FACOG, &Katerina \\nShvartsman, MD, FACOG19. \\nObstetrics & Obstetric Disorders 794V\\nanessa L. Rogers, MD, & Scott W. Roberts, MD20. \\nRheumatologic, Immunologic,\\n& Allergic Disorders 819Re\\nbecca L. Manno, MD, MHS, Jinoos Yazdany, MD,\\nMPH, Teresa K. Tarrant, MD, & Mildred Kwan, MD, PhD21. \\nElectrolyte & Acid\\ue008Base Disorders 875Nayan \\nArora, MD, & J. Ashley Jefferson, MD, FRCP22. \\nKidney Disease 903T\\nonja C. Dirkx, MD,& Tyler B. Woodell, MD, MCR23. \\nUrologic Disorders 943Mathew \\nSorensen, MD, MS, FACS,\\nThomas J. Walsh, MD, MS, & Brian J. Jordan, MD24. \\nNervous System Disorders 970V\\nanja C. Douglas, MD, &\\nMichael J. Aminoff, MD, DSc, FRCPiii\\nCMDT2023_FM_pi-xx.indd \\n3 30/06/22 2:57 PM'),\n",
       " Document(metadata={'source': 'C:\\\\Users\\\\Garv Khurana\\\\OneDrive\\\\Desktop\\\\2023_CURRENT_Medical_Diagnosis_and_Treat - Copy_removed.pdf', 'page': 2}, page_content='iv CMDT 202325. \\nPsychiatric Disorders 1046Kristin \\nS. Raj, MD, Nolan R. Williams, MD, &\\nCharles DeBattista, DMH, MD26. \\nEndocrine Disorders 1099Paul \\nA. Fitzgerald, MD27. \\nDiabetes Mellitus & Hypoglycemia 1195Umesh \\nMasharani, MB, BS, MRCP (UK)28. \\nLipid Disorders 1239Michael \\nJ. Blaha, MD, MPH29. \\nNutritional Disorders & Obesity 1250Katherine \\nH. Saunders, MD, &\\nLeon I. Igel, MD, FACP, FTOS30. \\nCommon Problems in Infectious\\nDiseases & Antimicrobial Therapy 1270Monica \\nFung, MD, MPH, Peter V. Chin-Hong, MD,\\nB. Joseph Guglielmo, PharmD, &\\nKatherine Gruenberg, PharmD31. \\nHIV Infection & AIDS 1311Monica \\nGandhi, MD, Matthew A. Spinelli, MD, MAS,\\n& Mitchell H. Katz, MD32. \\nViral & Rickettsial Infections 1353Christine \\nAkamine, MD, Eva Clark, MD, PhD,\\n& Wayne X. Shandera, MD33. \\nBacterial & Chlamydial Infections 1440Bryn \\nA. Boslett, MD, & Rachel Bystritsky, MD34. \\nSpirochetal Infections 1480Susan \\nS. Philip, MD, MPH35. \\nProtozoal & Helminthic Infections 1496Philip \\nJ. Rosenthal, MD36. \\nMycotic Infections 1534Stacey \\nR. Rose, MD, FACP, FIDSA, &\\nRichard J. Hamill, MD37. \\nDisorders Related to Environmental\\nEmergencies 1548Jacqueline \\nA. Nemer, MD, FACEP, &\\nMarianne A. Juarez, MD38. \\nPoisoning 1564Craig \\nSmollin, MD39. Cancer 1594Sunny \\nWang, MD, Tiffany O. Dea, PharmD, BCOP,\\nLawrence S. Friedman, MD, Carling Ursem, MD,\\nKenneth R. McQuaid, MD, & Marc A. Dall’Era, MD40. \\nGenetic & Genomic Disorders 1658Reed \\nE. Pyeritz, MD, PhD41. \\nOrthopedic Disorders &\\nSports Medicine 1675Anthony \\nLuke, MD, MPH, & C. Benjamin Ma, MD42. \\nSexual & Gender Minority Health 1709Patricia \\nA. Robertson, MD, Nicole Rosendale, MD,\\nKevin L. Ard, MD, MPH, Kenneth H. Mayer, MD,\\nMitzi Hawkins, MD, MAS, & Madeline B. Deutsch,\\nMD, MPHThe \\nfollowing chapters are available online\\nwithout subscription at www.accessmedicine.\\ncom/CMDT\\ne1. Anti\\ue008Infective Chemotherapeutic &\\nAntibiotic Agents Online*Katherine \\nGruenberg, PharmD, &\\nB. Joseph Guglielmo, PharmDe2. \\nDiagnostic Testing & Medical\\nDecision Making Online*Chuanyi \\nMark Lu, MDe3. \\nInformation Technology in\\nPatient Care Online*Russ \\nCucina, MD, MSe4. \\nIntegrative Medicine Online*Darshan \\nMehta, MD, MPHe5. \\nPodiatric Disorders Online*Monara \\nDini, DPM, & Charles B. Parks, DPMe6. \\nWomen’s Health Issues Online*Brig\\nid M. Dolan, MD, MEd, & Judith Walsh, MD, MPHe7. \\nAppendix: Therapeutic Drug Monitoring,\\nLaboratory Reference Intervals, &\\nCommonly Used Blood Specimen\\nCollection Tubes Online*Chuanyi \\nMark Lu, MD\\nIndex 1731CONTENTSCMDT2023_FM_pi-xx.indd \\n4 30/06/22 2:57 PM'),\n",
       " Document(metadata={'source': 'C:\\\\Users\\\\Garv Khurana\\\\OneDrive\\\\Desktop\\\\2023_CURRENT_Medical_Diagnosis_and_Treat - Copy_removed.pdf', 'page': 3}, page_content='Authorsv\\nChristine Akamine, MDAssis\\ntant Professor of Medicine, Section of Infectious\\nDiseases, Department of Medicine, Baylor College of\\nMedicine, Houston, Texas\\nakamine@bcm.edu\\nViral & Rickettsial InfectionsMichael J. \\nAminoff, MD, DSc, FRCPDistinguished Pr\\nofessor and Endowed Chair in\\nParkinson’s Disease Research, Department of\\nNeurology, University of California, San Francisco;\\nAttending Physician, University of California Medical\\nCenter, San Francisco\\nmichael.aminoff@ucsf.edu\\nNervous System DisordersCharalambos \\nBabis Andreadis, MD, MSCEPro\\nfessor of Clinical Medicine, Division of Hematology/\\nOncology, Department of Medicine, University of\\nCalifornia, San Francisco\\nCharalambos.Andreadis@ucsf.edu\\nBlood DisordersKevin \\nL. Ard, MD, MPHFaculty\\n, Division of Infectious Diseases, Massachusetts\\nGeneral Hospital; Medical Director, National\\nLGBTQIA+ Health Education Center, Fenway Institute;\\nAssistant Professor of Medicine, Harvard Medical\\nSchool, Boston, Massachusetts\\nkard@mgh.harvard.edu\\nSexual & Gender Minority HealthNayan \\nArora, MDAssis\\ntant Professor, Division of Nephrology, Department\\nof Medicine, University of Washington, Seattle,\\nWashington\\nnarora@uw.edu\\nElectrolyte & Acid-Base DisordersDavid \\nM. Barbour, PharmD, BCPSPharmacist, Den\\nver, Colorado\\ndbarbour99@gmail.com\\nDrug ReferencesMichael J. \\nBlaha, MD, MPHPro\\nfessor of Medicine, Division of Cardiology,\\nDepartment of Medicine; Director of Clinical Research,\\nCiccarone Center for the Prevention of Cardiovascular\\nDisease; Johns Hopkins University School of Medicine,\\nBaltimore, Maryland\\nmblaha1@jhmi.edu\\nLipid DisordersBryn A. Boslett, MDAssociate Clinical Pr\\nofessor, Division of Infectious\\nDiseases, Department of Medicine, University of\\nCalifornia, San Francisco\\nBryn.Boslett@ucsf.edu\\nBacterial & Chlamydial InfectionsJill Br\\nown, MD, MPH, MHS, FACOGMedical Officer\\n, Contraceptive Development Program,\\nNational Institute of Child Health and Human\\nDevelopment, Bethesda, Maryland\\nJilleb75@yahoo.com\\nGynecologic DisordersRachel By\\nstritsky, MDAssista\\nnt Professor, Division of Infectious Diseases,\\nDepartment of Medicine, University of California,\\nSan Francisco\\nRachel.Bystritsky@ucsf.edu\\nBacterial & Chlamydial InfectionsHugo Q\\n. Cheng, MDClinical Profes\\nsor of Medicine, Division of Hospital\\nMedicine, Department of Medicine, University of\\nCalifornia, San Francisco\\nquinny.cheng@ucsf.edu\\nPreoperative Evaluation & Perioperative ManagementPeter \\nV. Chin\\ue008Hong, MDPro\\nfessor of Medicine, Division of Infectious Diseases,\\nDepartment of Medicine, University of California,\\nSan Francisco\\npeter.chin-hong@ucsf.edu\\nCommon Problems in Infectious Diseases &\\nAntimicrobial TherapyEva \\nClark, MD, PhDAssista\\nnt Professor, Department of Medicine (Section of\\nInfectious Diseases) and Department of Pediatrics\\n(Section of Tropical Medicine), Baylor College of\\nMedicine, Houston, Texas\\neva.clark@bcm.edu\\nViral & Rickettsial InfectionsRuss C\\nucina, MD, MSPro\\nfessor of Hospital Medicine, Department of Medicine;\\nVice President, Genetic and Genomic Services and\\nChief Health Information Officer, UCSF Health\\nSystem; University of California, San Francisco\\nruss.cucina@ucsf.edu\\nCMDT Online—Information Technology in Patient CareRand Dadasovich, \\nMD, MSClinical Education F\\nellow, Division of Infectious Diseases,\\nUniversity of California, San Francisco\\nReferencesCMDT2023_FM_pi-xx.indd \\n5 30/06/22 2:57 PM'),\n",
       " Document(metadata={'source': 'C:\\\\Users\\\\Garv Khurana\\\\OneDrive\\\\Desktop\\\\2023_CURRENT_Medical_Diagnosis_and_Treat - Copy_removed.pdf', 'page': 4}, page_content='vi CMDT 2023 AUTHORS\\nMarc A. Dall’Era, MDPro\\nfessor of Urology, Department of Urology, UC Davis\\nHealth, University of California, Davis\\nmdallera@ucdavis.edu\\nGenitourinary Cancers (in Chapter 39)Lloyd \\nE. Damon, MDPro\\nfessor of Clinical Medicine, Division of Hematology/\\nOncology, Department of Medicine; Director of\\nQuality for the Adult Hematologic Malignancies and\\nBlood and Marrow Transplantation Program,\\nUniversity of California, San Francisco\\nlloyd.damon@ucsf.edu\\nBlood DisordersTiffan\\ny O. Dea, PharmD, BCOPOncology Pharmacist, V\\neterans Affairs Health Care\\nSystem, San Francisco, California; Adjunct Professor,\\nThomas J. Long School of Pharmacy and Health\\nSciences, Stockton, California\\ntiffany.dea@va.gov\\nCancerCharles \\nDeBattista, DMH, MDPro\\nfessor of Psychiatry and Behavioral Sciences,\\nDepartment of Psychiatry and Behavioral Sciences;\\nDirector, Depression Clinic and Research Program;\\nDirector of Medical Student Education in Psychiatry,\\nStanford University School of Medicine, Stanford,\\nCalifornia\\ndebattista@stanford.edu\\nPsychiatric DisordersMadeline B\\n. Deutsch, MD, MPHAs\\nsociate Professor of Clinical Family & Community\\nMedicine, Department of Family & Community\\nMedicine; Medical Director, UCSF Gender Affirming\\nHealth Program, University of California, San Francisco\\nMadeline.Deutsch@ucsf.edu\\nSexual & Gender Minority HealthChukwuka A. \\nDidigu, MD, PhDClinical Fellow\\n, Division of Hematology & Medical\\nOncology, Department of Medicine, University of\\nCalifornia, San Francisco\\nReferencesMonara \\nDini, DPMAssociate Clinical Pr\\nofessor of Orthopedics, Department\\nof Orthopedic Surgery, University of California,\\nSan Francisco\\nmonara.dini@ucsf.edu\\nCMDT Online—Podiatric DisordersT\\nonja C. Dirkx, MDChief, Nep\\nhrology Section, Veterans Affairs\\nPortland Health Care System; Associate Professor of\\nMedicine, Division of Nephrology, Department of\\nMedicine, Oregon Health & Science University,\\nPortland, Oregon\\ndirkxt@ohsu.edu\\nKidney DiseaseBrigid M. Dolan, MD, MEdAssociate P\\nrofessor of Medicine and Medical Education,\\nDivision of General Internal Medicine, Department of\\nMedicine, Northwestern University Feinberg School of\\nMedicine\\nbrigid.dolan@northwestern.edu\\nCMDT Online—Women’s Health IssuesV\\nanja C. Douglas, MDSara & Eva\\nn Williams Foundation Endowed\\nNeurohospitalist Chair, Professor of Clinical\\nNeurology, Department of Neurology, University of\\nCalifornia, San Francisco\\nVanja.Douglas@ucsf.edu\\nNervous System DisordersJacque \\nL. Duncan, MDPro\\nfessor of Clinical Ophthalmology, Department of\\nOphthalmology, University of California, San Francisco\\njacque.duncan@ucsf.edu\\nDisorders of the Eyes & LidsNeela Ea\\nswar, MDResident Ph\\nysician, Department of Medicine,\\nWeill Cornell Medicine, New York, New York\\nReferencesSarah \\nAdler Fink, RD, CDN, CNSCSenior Clinical Dietitian, Department of Food and\\nNutrition, New York-Presbyterian Hospital/Weill\\nCornell Medical Center, New York, New York\\nSaa9108@nyp.org\\nNutritional Support (in Chapter 29)Paul \\nA. Fitzgerald, MDClinical Prof\\nessor of Medicine, Division of Endocrinology,\\nDepartment of Medicine, University of California,\\nSan Francisco\\npaul.fitzgerald@ucsf.edu\\nEndocrine DisordersMeghan E\\n. Fitzpatrick, MDAssista\\nnt Professor of Medicine, Division of Pulmonary\\nand Critical Care Medicine, Department of Medicine,\\nUniversity of Pittsburgh School of Medicine,\\nPittsburgh, Pennsylvania\\nfitzpatrickme2@upmc.edu\\nPulmonary DisordersLindy P\\n. Fox, MDPro\\nfessor of Dermatology, Department of Dermatology,\\nUniversity of California, San Francisco\\nLindy.Fox@ucsf.edu\\nDermatologic Disorders; Callosities & Corns of Feet or Toes\\n(CMDT Online—Podiatric Disorders)CMDT2023_FM_pi-xx.indd \\n6 30/06/22 2:57 PM')]"
      ]
     },
     "execution_count": 3,
     "metadata": {},
     "output_type": "execute_result"
    }
   ],
   "source": [
    "data=loader.load()\n",
    "data[:5]"
   ]
  },
  {
   "cell_type": "code",
   "execution_count": 4,
   "id": "fb6c966b-5e66-45b8-bfd4-8fb0b125e113",
   "metadata": {},
   "outputs": [],
   "source": [
    "content=splitter.split_documents(data)"
   ]
  },
  {
   "cell_type": "code",
   "execution_count": 5,
   "id": "9c0782d2-2e71-461f-a7d1-720d507efcb4",
   "metadata": {},
   "outputs": [
    {
     "data": {
      "text/plain": [
       "[Document(metadata={'source': 'C:\\\\Users\\\\Garv Khurana\\\\OneDrive\\\\Desktop\\\\2023_CURRENT_Medical_Diagnosis_and_Treat - Copy_removed.pdf', 'page': 0}, page_content='Copyright © 2023 by McGraw Hill. All rights reserved. Except as permitted under the United States Copyright Act of 1976,\\nno part of this publication may be reproduced or distributed in any form or by any means, or stored in a database or retrieval\\nsystem, without the prior written permission of the publisher.\\nISBN: 978-1-26-468774-9\\nMHID: 1-26-468774-5\\nThe material in this eBook also appears in the print version of this title: ISBN: 978-1-26-468734-3,\\nMHID: 1-26-468734-6.\\neBook conversion by codeMantra\\nVersion 1.0\\nAll trademarks are trademarks of their respective owners. Rather than put a trademark symbol after every occurrence of a\\ntrademarked name, we use names in an editorial fashion only, and to the bene\\ue018t of the trademark owner, with no intention of\\ninfringement of the trademark. Where such designations appear in this book, they have been printed with initial caps.'),\n",
       " Document(metadata={'source': 'C:\\\\Users\\\\Garv Khurana\\\\OneDrive\\\\Desktop\\\\2023_CURRENT_Medical_Diagnosis_and_Treat - Copy_removed.pdf', 'page': 0}, page_content='McGraw Hill eBooks are available at special quantity discounts to use as premiums and sales promotions, or for use in corpo-\\nrate training programs. To contact a representative, please visit the Contact Us pages at www.mhprofessional.com.\\nNotice\\nMedicine is an ever-changing science. As new research and clinical experience broaden our knowledge, changes in treatment\\nand drug therapy are required. The authors and the publisher of this work have checked with sources believed to be reliable in\\ntheir efforts to provide information that is complete and generally in accord with the standards accepted at the time of public a-\\ntion. However, in view of the possibility of human error or changes in medical sciences, neither the authors nor the publisher\\nnor any other party who has been involved in the preparation or publication of this work warrants that the information con-')]"
      ]
     },
     "execution_count": 5,
     "metadata": {},
     "output_type": "execute_result"
    }
   ],
   "source": [
    "content[:2]"
   ]
  },
  {
   "cell_type": "code",
   "execution_count": 10,
   "id": "b6c3435f-7f7e-42d6-b333-b4d9ceae9a76",
   "metadata": {},
   "outputs": [],
   "source": [
    "db=FAISS.from_documents(content,OllamaEmbeddings(model=\"llama3\"))"
   ]
  },
  {
   "cell_type": "code",
   "execution_count": 11,
   "id": "133cce17-9bdf-4559-a7a2-c8bcb0fce170",
   "metadata": {},
   "outputs": [],
   "source": [
    "retriever=db.as_retriever()"
   ]
  },
  {
   "cell_type": "code",
   "execution_count": 15,
   "id": "2b51aa78-719a-46d1-8337-32e5b53cbfec",
   "metadata": {},
   "outputs": [],
   "source": [
    "retriever=db.as_retriever()"
   ]
  },
  {
   "cell_type": "code",
   "execution_count": 19,
   "id": "87fa566e-39a8-4066-9219-416afdd99cb7",
   "metadata": {},
   "outputs": [
    {
     "data": {
      "text/plain": [
       "[Document(metadata={'source': 'C:\\\\Users\\\\Garv Khurana\\\\OneDrive\\\\Desktop\\\\2023_CURRENT_Medical_Diagnosis_and_Treat - Copy_removed.pdf', 'page': 12}, page_content='some instances, full-text reference articlesE-\\nCHAPTERS, CMDT ONLINE , & AVAILABLE APPSSeven\\n e-chapters listed in the Table of Contents can be accessed at www.AccessMedicine.com/CMDT. These online-only\\nchapters (available without need for subscription) include\\n• Anti-Infective Chemotherapeutic & Antibiotic Agents\\n• Diagnostic Testing & Medical Decision Making\\n• Information Technology in Patient Care\\n• Integrative Medicine\\n• Podiatric Disorders\\n• Women’s Health Issues\\n• Appendix: Therapeutic Drug Monitoring, Laboratory Reference Intervals, & Commonly Used Blood Sp ecimen\\nCollection Tubes\\nInstitutional or individual subscriptions to AccessMedicine also have full electronic access to CMDT 2023 . Subscribers to\\nCMDT Online receive full electronic access to CMDT 2023 as well as\\n• An expanded, dedicated media gallery; new to this edition are educational videos and printable protocols in the\\nOrthopedic Disorders & Sports Medicine chapter'),\n",
       " Document(metadata={'source': 'C:\\\\Users\\\\Garv Khurana\\\\OneDrive\\\\Desktop\\\\2023_CURRENT_Medical_Diagnosis_and_Treat - Copy_removed.pdf', 'page': 106}, page_content='“deco\\ue03fpens\\ue033ted cirrhosis”) \\ue033nd its contributory c\\ue033use (eg,\\n“hep\\ue033titis B \\ue033nd hep\\ue033titis C infections, chronic \\ue033lcoholic\\nhep\\ue033titis, \\ue033nd \\ue033lcoholis\\ue03f”) \\ue033s well \\ue033s \\ue033ny \\ue033ssoci\\ue033ted condi-\\ntions (eg, “\\ue033cute kidney injury”)—\\ue033nd not si\\ue03fply put down“c\\ue033rdi\\ue033c \\ue033rrest” \\ue033s the c\\ue033use of de\\ue033th. In relev\\ue033nt c\\ue033ses, it is\\nprohibited (in so\\ue03fe jurisdictions) to list either “\\ue03fedic\\ue033l \\ue033id\\nin dying” (or \\ue033ny synony\\ue03fous ter\\ue03f) or the \\ue03fedic\\ue033tions\\nused to \\ue033cco\\ue03fplish it on the de\\ue033th certific\\ue033te; inste\\ue033d, the\\nclinici\\ue033n prescribing the leth\\ue033l dose of \\ue03fedic\\ue033tion for this\\npurpose \\ue033nd following the p\\ue033tient until de\\ue033th \\ue03fust (in\\n\\ue03fost jurisdictions) co\\ue03fplete \\ue033nd sub\\ue03fit \\ue033 follow-up for\\ue03f\\n\\ue033nd list the c\\ue033use of de\\ue033th \\ue033s the underlying condition th\\ue033t\\nled to de\\ue033th.H\\ue033\\nt\\ue033no Y et \\ue033l. Physici\\ue033n beh\\ue033vior tow\\ue033rd de\\ue033th pronounce\\ue03fent\\nin p\\ue033lli\\ue033tive c\\ue033re units. J P\\ue033lli\\ue033t Med. 2018;21:368. [PMID:\\n28945507]\\n»Autopsy & Organ DonationDiscussing \\nthe options \\ue033nd obt\\ue033ining consent for \\ue033utopsy'),\n",
       " Document(metadata={'source': 'C:\\\\Users\\\\Garv Khurana\\\\OneDrive\\\\Desktop\\\\2023_CURRENT_Medical_Diagnosis_and_Treat - Copy_removed.pdf', 'page': 342}, page_content='p\\ue04bs\\ue045t\\ue045\\ue04bn\\ue045ng ne\\ue03fess\\ue045tated by \\ue03f\\ue048\\ue045n\\ue045\\ue03fa\\ue048 \\ue03f\\ue045r\\ue03fumstan\\ue03fe) f\\ue04br\\ndete\\ue03ft\\ue045ng pneum\\ue04bth\\ue04brax \\ue045n trauma pat\\ue045ents, and \\ue045s fre-\\nquent\\ue048y used \\ue045n \\ue03fr\\ue045t\\ue045\\ue03fa\\ue048 \\ue03fare, th\\ue04bugh \\ue03f\\ue04bmpar\\ue045s\\ue04bns \\ue04bf u\\ue048tra-\\ns\\ue04bund t\\ue04b \\ue03fhest rad\\ue045\\ue04bgraph \\ue04br t\\ue04b CT s\\ue03fan rep\\ue04brt var\\ue045ab\\ue048e\\ntest \\ue03fhara\\ue03fter\\ue045st\\ue045\\ue03fs.\\nH\\ue045gh-res\\ue04b\\ue048ut\\ue045\\ue04bn CT may be \\ue03f\\ue04bns\\ue045dered w\\ue045th the f\\ue045rst\\nsp\\ue04bntane\\ue04bus pneum\\ue04bth\\ue04brax t\\ue04b eva\\ue048uate f\\ue04br under\\ue048y\\ue045ng\\n\\ue03fyst\\ue045\\ue03f \\ue048ung d\\ue045sease.\\n»Differential DiagnosisIf \\nthe pat\\ue045ent \\ue045s y\\ue04bung w\\ue045th typ\\ue045\\ue03fa\\ue048 \\ue03f\\ue048\\ue045n\\ue045\\ue03fa\\ue048 \\ue03fhara\\ue03fter\\ue045st\\ue045\\ue03fs,\\nthe d\\ue045agn\\ue04bs\\ue045s \\ue04bf pr\\ue045mary sp\\ue04bntane\\ue04bus pneum\\ue04bth\\ue04brax \\ue045s\\nusua\\ue048\\ue048y \\ue04bbv\\ue045\\ue04bus and \\ue03fan be \\ue03f\\ue04bnf\\ue045rmed by \\ue03fhest rad\\ue045\\ue04bgraph.\\nO\\ue03f\\ue03fas\\ue045\\ue04bna\\ue048\\ue048y, pneum\\ue04bth\\ue04brax may m\\ue045m\\ue045\\ue03f MI, PE, \\ue04br\\npneum\\ue04bn\\ue045a.\\n»ComplicationsT\\nens\\ue045\\ue04bn pneum\\ue04bth\\ue04brax may be \\ue048\\ue045fe-threaten\\ue045ng. Pneum\\ue04b-\\nmed\\ue045ast\\ue045num and sub\\ue03futane\\ue04bus emphysema may \\ue04b\\ue03f\\ue03fur as\\n\\ue03f\\ue04bmp\\ue048\\ue045\\ue03fat\\ue045\\ue04bns \\ue04bf sp\\ue04bntane\\ue04bus pneum\\ue04bth\\ue04brax. If pneum\\ue04b-\\nmed\\ue045ast\\ue045num \\ue045s dete\\ue03fted, rupture \\ue04bf the es\\ue04bphagus \\ue04br a\\nbr\\ue04bn\\ue03fhus sh\\ue04bu\\ue048d be \\ue03f\\ue04bns\\ue045dered \\ue045n the d\\ue045fferent\\ue045a\\ue048 d\\ue045agn\\ue04bs\\ue045s.\\n»TreatmentT\\nreatment depends \\ue04bn the sever\\ue045ty \\ue04bf the pneum\\ue04bth\\ue04brax'),\n",
       " Document(metadata={'source': 'C:\\\\Users\\\\Garv Khurana\\\\OneDrive\\\\Desktop\\\\2023_CURRENT_Medical_Diagnosis_and_Treat - Copy_removed.pdf', 'page': 156}, page_content='Microbiol Infect Dis. 2019;38:703. [PMID: 30685804]\\nRra\\ue042i R et al. Cellulitis: a review of \\ue042athogenesis, diagnosis, and\\n\\ue03fanage\\ue03fent. Med Clin North A\\ue03f. 2021;105:723. [PMID:\\n34059247]\\nWebb E et al. Co\\ue03f\\ue042ression thera\\ue042y to \\ue042revent recurrent cellulitis\\nof the leg. N Engl J Med. 2020;383:630. [PMID: 32786188]ERYS\\nIPELASE\\nS S E N T I A L S  O F  D I A G N O S I S\\n»Edematous, circumscribed, hot, erythematous\\narea, with raised advancing border.\\n»Central face or lower extremity frequently involved.\\n»Pain and systemic toxicity may be striking.»General ConsiderationsErysi\\ue042elas \\nis a su\\ue042erficial for\\ue03f of cellulitis that is caused by\\nbeta-he\\ue03folytic stre\\ue042tococci.\\n»Clinical FindingsA. \\nSymptoms and SignsThe \\nsy\\ue03f\\ue042to\\ue03fs are \\ue042ain, \\ue03falaise, chills, and \\ue03foderate\\nfever. A bright red s\\ue042ot a\\ue042\\ue042ears and then s\\ue042reads to for\\ue03f a\\ntense, shar\\ue042ly de\\ue03farcated, glistening, s\\ue03footh, hot \\ue042laque.\\nThe shar\\ue042 \\ue03fargin characteristically \\ue03fakes noticeable\\nadvances in days or even hours. The lesion is ede\\ue03fatous')]"
      ]
     },
     "execution_count": 19,
     "metadata": {},
     "output_type": "execute_result"
    }
   ],
   "source": [
    "db.similarity_search('we use names in an editorial fashion only')"
   ]
  },
  {
   "cell_type": "code",
   "execution_count": 20,
   "id": "67fe0670-b89b-4e0d-94a7-ae41bdbd3279",
   "metadata": {},
   "outputs": [],
   "source": [
    "from langchain.chains.combine_documents.stuff import create_stuff_documents_chain\n",
    "from langchain.chains.retrieval import create_retrieval_chain"
   ]
  },
  {
   "cell_type": "code",
   "execution_count": 21,
   "id": "d92d5f4d-6b7c-40bb-a64a-ba15da8637f9",
   "metadata": {},
   "outputs": [],
   "source": [
    "prompt=ChatPromptTemplate.from_template(\"\"\"\n",
    "you are a doctor and a researcher as well and specialized in doing medical tasks answer the following questions \n",
    "based on the context provided,think step by step before answering \n",
    "I will tip you $1000 if I find the answer helpful\n",
    "\n",
    "<context>\n",
    "{context}\n",
    "</context>\n",
    "\n",
    "Question:{input}\n",
    "\"\"\"\n",
    "    \n",
    ")"
   ]
  },
  {
   "cell_type": "code",
   "execution_count": 23,
   "id": "b6c6c189-490d-4d59-ab01-702c9f82de45",
   "metadata": {},
   "outputs": [
    {
     "data": {
      "text/plain": [
       "RunnableBinding(bound=RunnableBinding(bound=RunnableAssign(mapper={\n",
       "  context: RunnableLambda(format_docs)\n",
       "}), config={'run_name': 'format_inputs'})\n",
       "| ChatPromptTemplate(input_variables=['context', 'input'], messages=[HumanMessagePromptTemplate(prompt=PromptTemplate(input_variables=['context', 'input'], template='\\nyou are a doctor and a researcher as well and specialized in doing medical tasks answer the following questions \\nbased on the context provided,think step by step before answering \\nI will tip you $1000 if I find the answer helpful\\n\\n<context>\\n{context}\\n</context>\\n\\nQuestion:{input}\\n'))])\n",
       "| Ollama(model='llama3')\n",
       "| StrOutputParser(), config={'run_name': 'stuff_documents_chain'})"
      ]
     },
     "execution_count": 23,
     "metadata": {},
     "output_type": "execute_result"
    }
   ],
   "source": [
    "document_chain=create_stuff_documents_chain(llm,prompt)\n",
    "document_chain"
   ]
  },
  {
   "cell_type": "code",
   "execution_count": 25,
   "id": "73e48d5f-810f-466f-a6d7-b6a0586a19b5",
   "metadata": {},
   "outputs": [],
   "source": [
    "chain=create_retrieval_chain(retriever,document_chain)"
   ]
  },
  {
   "cell_type": "code",
   "execution_count": null,
   "id": "88c69e53-b611-4c41-947d-5394b232fe00",
   "metadata": {},
   "outputs": [],
   "source": [
    "chain.invoke({'input':'Differential diagnosos'})"
   ]
  },
  {
   "cell_type": "code",
   "execution_count": null,
   "id": "9ffca11c-097f-43b2-b7fd-571d9210faa3",
   "metadata": {},
   "outputs": [],
   "source": []
  }
 ],
 "metadata": {
  "kernelspec": {
   "display_name": "Python 3 (ipykernel)",
   "language": "python",
   "name": "python3"
  },
  "language_info": {
   "codemirror_mode": {
    "name": "ipython",
    "version": 3
   },
   "file_extension": ".py",
   "mimetype": "text/x-python",
   "name": "python",
   "nbconvert_exporter": "python",
   "pygments_lexer": "ipython3",
   "version": "3.11.5"
  }
 },
 "nbformat": 4,
 "nbformat_minor": 5
}
